{
 "cells": [
  {
   "cell_type": "markdown",
   "metadata": {},
   "source": [
    "## Time a Ligand Polymer Interaction Calculation using Numpy Vectorized Array Implementation"
   ]
  },
  {
   "cell_type": "code",
   "execution_count": null,
   "metadata": {},
   "outputs": [],
   "source": [
    "from pyspark.sql import SparkSession\n",
    "from mmtfPyspark.io import mmtfReader\n",
    "from mmtfPyspark.interactions import InteractionExtractor, InteractionFilter\n",
    "from mmtfPyspark.webfilters import Pisces\n",
    "import papermill as pm\n",
    "import time"
   ]
  },
  {
   "cell_type": "markdown",
   "metadata": {},
   "source": [
    "### Run benchmark"
   ]
  },
  {
   "cell_type": "code",
   "execution_count": null,
   "metadata": {},
   "outputs": [],
   "source": [
    "t0 = time.time()\n",
    "spark = SparkSession.builder.master(\"local[\" + str(cores) + \"]\").appName(\"Fingerprint\").getOrCreate()\n",
    "\n",
    "t1 = time.time()\n",
    "structures = mmtfReader.read_sequence_file(path)\n",
    "structures = structures.filter(lambda s: s[1].num_models == 1)\n",
    "                               \n",
    "interaction_filter = InteractionFilter()\n",
    "interaction_filter.set_target_elements(False, ['C','H','P'])\n",
    "interaction_filter.set_query_elements(True, ['Zn'])\n",
    "interaction_filter.set_distance_cutoff(3.0)\n",
    "\n",
    "interactions = InteractionExtractor().get_ligand_polymer_interactions(structures, interaction_filter)\n",
    "count = interactions.count()\n",
    "\n",
    "t2 = time.time()\n",
    "\n",
    "spark.stop()\n",
    "t3 = time.time()"
   ]
  },
  {
   "cell_type": "markdown",
   "metadata": {},
   "source": [
    "### Record results"
   ]
  },
  {
   "cell_type": "code",
   "execution_count": null,
   "metadata": {},
   "outputs": [],
   "source": [
    "pm.record(\"interactions_total\", t3 - t0)\n",
    "pm.record(\"interactions\", t2 - t1)\n",
    "pm.record(\"count\", count)"
   ]
  }
 ],
 "metadata": {
  "kernelspec": {
   "display_name": "Python 3",
   "language": "python",
   "name": "python3"
  },
  "language_info": {
   "codemirror_mode": {
    "name": "ipython",
    "version": 3
   },
   "file_extension": ".py",
   "mimetype": "text/x-python",
   "name": "python",
   "nbconvert_exporter": "python",
   "pygments_lexer": "ipython3",
   "version": "3.7.1"
  }
 },
 "nbformat": 4,
 "nbformat_minor": 2
}
