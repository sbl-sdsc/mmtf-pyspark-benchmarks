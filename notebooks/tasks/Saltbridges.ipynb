{
 "cells": [
  {
   "cell_type": "markdown",
   "metadata": {},
   "source": [
    "## Time for Salt bridge Interaction Calculation using Numpy Vectorized Array Implementation"
   ]
  },
  {
   "cell_type": "code",
   "execution_count": null,
   "metadata": {},
   "outputs": [],
   "source": [
    "from pyspark.sql import SparkSession\n",
    "from mmtfPyspark.io import mmtfReader\n",
    "from mmtfPyspark.interactions import InteractionExtractor, InteractionFilter\n",
    "from mmtfPyspark.webfilters import Pisces\n",
    "import papermill as pm\n",
    "import time"
   ]
  },
  {
   "cell_type": "markdown",
   "metadata": {},
   "source": [
    "### Run benchmark"
   ]
  },
  {
   "cell_type": "code",
   "execution_count": null,
   "metadata": {},
   "outputs": [],
   "source": [
    "t0 = time.time()\n",
    "spark = SparkSession.builder.master(\"local[\" + str(cores) + \"]\").appName(\"Saltbridges\").getOrCreate()\n",
    "\n",
    "t1 = time.time()\n",
    "structures = mmtfReader.read_sequence_file(path)\n",
    "structures = structures.filter(lambda s: s[1].num_models == 1)\n",
    "                               \n",
    "salt_bridge = InteractionFilter(distanceCutoff=3.5)\n",
    "salt_bridge.set_query_groups(True, ['ASP', 'GLU'])\n",
    "salt_bridge.set_query_atom_names(True, ['OD1', 'OD2', 'OE1', 'OE2'])\n",
    "salt_bridge.set_target_groups(True, ['ARG', 'LYS', 'HIS'])\n",
    "salt_bridge.set_target_atom_names(True, ['NH1', 'NH2', 'NZ', 'ND1', 'NE2'])\n",
    "\n",
    "interactions = InteractionExtractor.get_polymer_interactions(pdb, salt_brdige)\n",
    "count = interactions.count()\n",
    "\n",
    "t2 = time.time()\n",
    "\n",
    "spark.stop()\n",
    "t3 = time.time()"
   ]
  },
  {
   "cell_type": "markdown",
   "metadata": {},
   "source": [
    "### Record results"
   ]
  },
  {
   "cell_type": "code",
   "execution_count": null,
   "metadata": {},
   "outputs": [],
   "source": [
    "pm.record(\"saltbridges_total\", t3 - t0)\n",
    "pm.record(\"saltbridges\", t2 - t1)\n",
    "pm.record(\"count\", count)"
   ]
  }
 ],
 "metadata": {
  "kernelspec": {
   "display_name": "Python 3",
   "language": "python",
   "name": "python3"
  },
  "language_info": {
   "codemirror_mode": {
    "name": "ipython",
    "version": 3
   },
   "file_extension": ".py",
   "mimetype": "text/x-python",
   "name": "python",
   "nbconvert_exporter": "python",
   "pygments_lexer": "ipython3",
   "version": "3.7.2"
  }
 },
 "nbformat": 4,
 "nbformat_minor": 2
}
