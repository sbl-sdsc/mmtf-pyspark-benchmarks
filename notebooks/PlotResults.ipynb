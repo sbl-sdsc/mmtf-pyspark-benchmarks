{
 "cells": [
  {
   "cell_type": "markdown",
   "metadata": {},
   "source": [
    "## Plot Benchmark Results\n",
    "Plot benchmark results for Read, Interactions, and Saltbridges benchmarks."
   ]
  },
  {
   "cell_type": "code",
   "execution_count": null,
   "metadata": {},
   "outputs": [],
   "source": [
    "import pandas as pd\n",
    "import numpy as np\n",
    "import matplotlib.pyplot as plt\n",
    "%matplotlib inline"
   ]
  },
  {
   "cell_type": "code",
   "execution_count": null,
   "metadata": {},
   "outputs": [],
   "source": [
    "r = pd.read_csv('../results/read.csv')[['cores','read']]\n",
    "i = pd.read_csv('../results/interactions.csv')[['cores','interactions']]\n",
    "b = pd.read_csv('../results/saltbridges.csv')[['cores','saltbridges']]"
   ]
  },
  {
   "cell_type": "code",
   "execution_count": null,
   "metadata": {},
   "outputs": [],
   "source": [
    "data = b.merge(i, on='cores')\n",
    "data = data.merge(r, on='cores')\n",
    "data = data.sort_values('cores')"
   ]
  },
  {
   "cell_type": "code",
   "execution_count": null,
   "metadata": {},
   "outputs": [],
   "source": [
    "n_cores = data.cores.max()\n",
    "print(\"Max number of cores:\", n_cores)"
   ]
  },
  {
   "cell_type": "code",
   "execution_count": null,
   "metadata": {},
   "outputs": [],
   "source": [
    "df = data.copy()\n",
    "df"
   ]
  },
  {
   "cell_type": "code",
   "execution_count": null,
   "metadata": {
    "scrolled": false
   },
   "outputs": [],
   "source": [
    "df.plot.line(x=\"cores\", grid=True, title=\"Time vs cores\")\n",
    "\n",
    "plt.ylabel('Time (s)')\n",
    "plt.xticks(np.arange(1, n_cores+1, 1))\n",
    "plt.savefig('../results/TimeVsCores.png')\n",
    "plt.show()"
   ]
  },
  {
   "cell_type": "markdown",
   "metadata": {},
   "source": [
    "## Calculate Speedup"
   ]
  },
  {
   "cell_type": "code",
   "execution_count": null,
   "metadata": {},
   "outputs": [],
   "source": [
    "df['read'] = df.read.max()/df.read\n",
    "df['interactions'] = df.interactions.max()/df.interactions\n",
    "df['saltbridges'] = df.saltbridges.max()/df.saltbridges\n",
    "df"
   ]
  },
  {
   "cell_type": "code",
   "execution_count": null,
   "metadata": {
    "scrolled": true
   },
   "outputs": [],
   "source": [
    "df.plot.line(x=\"cores\", grid=True, title=\"Speedup vs cores\")\n",
    "\n",
    "plt.ylabel('Speedup')\n",
    "plt.xticks(np.arange(1, n_cores+1, 1))\n",
    "plt.savefig('../results/SpeedupVsCores.png')\n",
    "plt.show()"
   ]
  },
  {
   "cell_type": "markdown",
   "metadata": {},
   "source": [
    "## Calculate the Netto Speedup\n",
    "Here we subtract the time required to read the data to see how the calculations scale with the number of cores."
   ]
  },
  {
   "cell_type": "code",
   "execution_count": null,
   "metadata": {},
   "outputs": [],
   "source": [
    "df = data.copy()\n",
    "df['saltbridges_netto'] = df['saltbridges'] - df['read']\n",
    "df['interactions_netto'] = df['interactions'] - df['read']\n",
    "df"
   ]
  },
  {
   "cell_type": "code",
   "execution_count": null,
   "metadata": {},
   "outputs": [],
   "source": [
    "df.plot.line(x=\"cores\", grid=True, title=\"Time vs cores\")\n",
    "\n",
    "plt.ylabel('Time (s)')\n",
    "plt.xticks(np.arange(1, n_cores+1, 1))\n",
    "plt.savefig('../results/TimeNettoVsCores.png')\n",
    "plt.show()"
   ]
  },
  {
   "cell_type": "code",
   "execution_count": null,
   "metadata": {},
   "outputs": [],
   "source": [
    "df['read'] = df.read.max()/df.read\n",
    "df['interactions'] = df.interactions.max()/df.interactions\n",
    "df['saltbridges'] = df.saltbridges.max()/df.saltbridges\n",
    "df['interactions_netto'] = df.interactions_netto.max()/df.interactions_netto\n",
    "df['saltbridges_netto'] = df.saltbridges_netto.max()/df.saltbridges_netto"
   ]
  },
  {
   "cell_type": "code",
   "execution_count": null,
   "metadata": {},
   "outputs": [],
   "source": [
    "df.plot.line(x=\"cores\", grid=True, title=\"Speedup vs cores\")\n",
    "\n",
    "plt.ylabel('Speedup')\n",
    "plt.xticks(np.arange(1, n_cores+1, 1))\n",
    "plt.savefig('../results/SpeedupNettoVsCores.png')\n",
    "plt.show()"
   ]
  }
 ],
 "metadata": {
  "kernelspec": {
   "display_name": "Python 3",
   "language": "python",
   "name": "python3"
  },
  "language_info": {
   "codemirror_mode": {
    "name": "ipython",
    "version": 3
   },
   "file_extension": ".py",
   "mimetype": "text/x-python",
   "name": "python",
   "nbconvert_exporter": "python",
   "pygments_lexer": "ipython3",
   "version": "3.7.2"
  }
 },
 "nbformat": 4,
 "nbformat_minor": 2
}
