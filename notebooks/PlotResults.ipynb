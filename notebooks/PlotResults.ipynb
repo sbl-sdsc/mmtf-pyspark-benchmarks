{
 "cells": [
  {
   "cell_type": "markdown",
   "metadata": {},
   "source": [
    "## Plot Benchmark Results"
   ]
  },
  {
   "cell_type": "code",
   "execution_count": 1,
   "metadata": {},
   "outputs": [],
   "source": [
    "import pandas as pd\n",
    "import papermill as pm\n",
    "import numpy as np\n",
    "import matplotlib.pyplot as plt\n",
    "%matplotlib inline"
   ]
  },
  {
   "cell_type": "code",
   "execution_count": 2,
   "metadata": {
    "scrolled": true
   },
   "outputs": [
    {
     "name": "stdout",
     "output_type": "stream",
     "text": [
      "cores: 8\n",
      "cpus:  4\n"
     ]
    }
   ],
   "source": [
    "import psutil\n",
    "n_cores = psutil.cpu_count(logical=True)\n",
    "n_cpus = psutil.cpu_count(logical=False)\n",
    "print(\"cores:\", n_cores)\n",
    "print(\"cpus: \", n_cpus)"
   ]
  },
  {
   "cell_type": "code",
   "execution_count": 3,
   "metadata": {},
   "outputs": [],
   "source": [
    "r = pd.read_csv('../results/Read.csv')[['cores','read']]\n",
    "f = pd.read_csv('../results/Filter.csv')[['cores','filter']]\n",
    "p = pd.read_csv('../results/Fingerprint.csv')[['cores','fingerprint']]\n",
    "m = pd.read_csv('../results/Flatmap.csv')[['cores','flatmap']]"
   ]
  },
  {
   "cell_type": "code",
   "execution_count": 4,
   "metadata": {},
   "outputs": [
    {
     "data": {
      "text/html": [
       "<div>\n",
       "<style scoped>\n",
       "    .dataframe tbody tr th:only-of-type {\n",
       "        vertical-align: middle;\n",
       "    }\n",
       "\n",
       "    .dataframe tbody tr th {\n",
       "        vertical-align: top;\n",
       "    }\n",
       "\n",
       "    .dataframe thead th {\n",
       "        text-align: right;\n",
       "    }\n",
       "</style>\n",
       "<table border=\"1\" class=\"dataframe\">\n",
       "  <thead>\n",
       "    <tr style=\"text-align: right;\">\n",
       "      <th></th>\n",
       "      <th>cores</th>\n",
       "      <th>flatmap</th>\n",
       "      <th>fingerprint</th>\n",
       "      <th>filter</th>\n",
       "      <th>read</th>\n",
       "    </tr>\n",
       "  </thead>\n",
       "  <tbody>\n",
       "    <tr>\n",
       "      <th>0</th>\n",
       "      <td>1</td>\n",
       "      <td>7557.068324</td>\n",
       "      <td>7832.173906</td>\n",
       "      <td>1323.152774</td>\n",
       "      <td>1278.527366</td>\n",
       "    </tr>\n",
       "    <tr>\n",
       "      <th>1</th>\n",
       "      <td>2</td>\n",
       "      <td>3632.109765</td>\n",
       "      <td>4004.091420</td>\n",
       "      <td>696.475280</td>\n",
       "      <td>668.031833</td>\n",
       "    </tr>\n",
       "    <tr>\n",
       "      <th>2</th>\n",
       "      <td>3</td>\n",
       "      <td>2470.077979</td>\n",
       "      <td>2778.448527</td>\n",
       "      <td>512.475331</td>\n",
       "      <td>470.320329</td>\n",
       "    </tr>\n",
       "    <tr>\n",
       "      <th>3</th>\n",
       "      <td>4</td>\n",
       "      <td>1968.311103</td>\n",
       "      <td>2370.011281</td>\n",
       "      <td>419.320728</td>\n",
       "      <td>387.979400</td>\n",
       "    </tr>\n",
       "    <tr>\n",
       "      <th>4</th>\n",
       "      <td>8</td>\n",
       "      <td>1931.437596</td>\n",
       "      <td>2460.323359</td>\n",
       "      <td>367.797722</td>\n",
       "      <td>342.400208</td>\n",
       "    </tr>\n",
       "  </tbody>\n",
       "</table>\n",
       "</div>"
      ],
      "text/plain": [
       "   cores      flatmap  fingerprint       filter         read\n",
       "0      1  7557.068324  7832.173906  1323.152774  1278.527366\n",
       "1      2  3632.109765  4004.091420   696.475280   668.031833\n",
       "2      3  2470.077979  2778.448527   512.475331   470.320329\n",
       "3      4  1968.311103  2370.011281   419.320728   387.979400\n",
       "4      8  1931.437596  2460.323359   367.797722   342.400208"
      ]
     },
     "execution_count": 4,
     "metadata": {},
     "output_type": "execute_result"
    }
   ],
   "source": [
    "df = m.merge(p, on='cores')\n",
    "df = df.merge(f, on='cores')\n",
    "df = df.merge(r, on='cores')\n",
    "df"
   ]
  },
  {
   "cell_type": "code",
   "execution_count": 5,
   "metadata": {},
   "outputs": [
    {
     "data": {
      "image/png": "[encoded data removed]",
      "text/plain": [
       "<Figure size 432x288 with 1 Axes>"
      ]
     },
     "metadata": {
      "needs_background": "light"
     },
     "output_type": "display_data"
    }
   ],
   "source": [
    "df.plot.line(x=\"cores\", grid=True, title=\"Time vs cores\")\n",
    "\n",
    "plt.ylabel('Time (s)')\n",
    "plt.xticks(np.arange(1, n_cores+1, 1))\n",
    "plt.savefig('../results/Benchmark.png')\n",
    "plt.show()"
   ]
  },
  {
   "cell_type": "code",
   "execution_count": 6,
   "metadata": {},
   "outputs": [
    {
     "name": "stdout",
     "output_type": "stream",
     "text": [
      "CPython 3.7.1\n",
      "IPython 7.1.1\n",
      "\n",
      "matplotlib 3.0.2\n",
      "numpy 1.15.4\n",
      "pandas 0.23.4\n",
      "papermill 0.14.2\n",
      "pyspark 2.4.0\n",
      "\n",
      "compiler   : Clang 9.0.0 (clang-900.0.37)\n",
      "system     : Darwin\n",
      "release    : 18.2.0\n",
      "machine    : x86_64\n",
      "processor  : i386\n",
      "CPU cores  : 8\n",
      "interpreter: 64bit\n"
     ]
    }
   ],
   "source": [
    "%load_ext watermark\n",
    "%watermark -v -m -p matplotlib,numpy,pandas,papermill,pyspark"
   ]
  },
  {
   "cell_type": "code",
   "execution_count": null,
   "metadata": {},
   "outputs": [],
   "source": []
  }
 ],
 "metadata": {
  "kernelspec": {
   "display_name": "Python 3",
   "language": "python",
   "name": "python3"
  },
  "language_info": {
   "codemirror_mode": {
    "name": "ipython",
    "version": 3
   },
   "file_extension": ".py",
   "mimetype": "text/x-python",
   "name": "python",
   "nbconvert_exporter": "python",
   "pygments_lexer": "ipython3",
   "version": "3.7.1"
  }
 },
 "nbformat": 4,
 "nbformat_minor": 2
}
