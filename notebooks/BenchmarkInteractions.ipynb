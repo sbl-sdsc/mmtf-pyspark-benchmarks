{
 "cells": [
  {
   "cell_type": "markdown",
   "metadata": {},
   "source": [
    "## Benchmark a Ligand Polymer Interaction Calculation using Python Implementation"
   ]
  },
  {
   "cell_type": "code",
   "execution_count": null,
   "metadata": {},
   "outputs": [],
   "source": [
    "import pandas as pd\n",
    "import papermill as pm\n",
    "import numpy as np\n",
    "import matplotlib.pyplot as plt\n",
    "%matplotlib inline"
   ]
  },
  {
   "cell_type": "code",
   "execution_count": null,
   "metadata": {},
   "outputs": [],
   "source": [
    "import psutil\n",
    "n_cores = psutil.cpu_count(logical=True)\n",
    "n_cpus = psutil.cpu_count(logical=False)\n",
    "print(\"cores:\", n_cores)\n",
    "print(\"cpus: \", n_cpus)"
   ]
  },
  {
   "cell_type": "code",
   "execution_count": null,
   "metadata": {},
   "outputs": [],
   "source": [
    "dataset = \"full\"\n",
    "coresets = [1,2] + list(range(4, n_cores+1, 4))\n",
    "coresets.reverse()\n",
    "print(coresets)"
   ]
  },
  {
   "cell_type": "code",
   "execution_count": null,
   "metadata": {},
   "outputs": [],
   "source": [
    "for cores in coresets:\n",
    "    pm.execute_notebook(\n",
    "        'tasks/Interactions.ipynb',\n",
    "        '../output/Interactions_' + str(cores) + \"_\" + dataset + '.ipynb',\n",
    "        parameters = dict(cores=cores, path='../data/' + dataset)\n",
    "    )"
   ]
  },
  {
   "cell_type": "code",
   "execution_count": null,
   "metadata": {},
   "outputs": [],
   "source": [
    "nbs = pm.read_notebooks('../output/')\n",
    "nbs.dataframe"
   ]
  },
  {
   "cell_type": "code",
   "execution_count": null,
   "metadata": {},
   "outputs": [],
   "source": [
    "df = nbs.dataframe.pivot(index='key', columns='name', values='value')\n",
    "df[\"cores\"] = pd.to_numeric(df[\"cores\"])\n",
    "df[\"interactions\"] = pd.to_numeric(df[\"interactions\"])\n",
    "df"
   ]
  },
  {
   "cell_type": "code",
   "execution_count": null,
   "metadata": {},
   "outputs": [],
   "source": [
    "ds = df.filter(like='Interactions_', axis=0)\n",
    "ds.to_csv(\"../results/Interactions.csv\")"
   ]
  },
  {
   "cell_type": "code",
   "execution_count": null,
   "metadata": {},
   "outputs": [],
   "source": []
  },
  {
   "cell_type": "code",
   "execution_count": null,
   "metadata": {},
   "outputs": [],
   "source": []
  }
 ],
 "metadata": {
  "kernelspec": {
   "display_name": "Python 3",
   "language": "python",
   "name": "python3"
  },
  "language_info": {
   "codemirror_mode": {
    "name": "ipython",
    "version": 3
   },
   "file_extension": ".py",
   "mimetype": "text/x-python",
   "name": "python",
   "nbconvert_exporter": "python",
   "pygments_lexer": "ipython3",
   "version": "3.7.1"
  }
 },
 "nbformat": 4,
 "nbformat_minor": 2
}
