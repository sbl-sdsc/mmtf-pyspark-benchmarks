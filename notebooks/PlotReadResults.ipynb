{
 "cells": [
  {
   "cell_type": "markdown",
   "metadata": {},
   "source": [
    "## Plot Benchmark Results for Reading MMTF Hadoop Sequence Files\n",
    "Reading the entire [Protein Data Bank (PDB)](https://www.wwpdb.org/) from an [MMTF Hadoop Sequence File](https://mmtf.rcsb.org/download.html) involves the following steps:\n",
    "1. **read** raw MMTF Hadoop Sequence File consisting of key/value pairs (PDBId/PDB data in MMTF format)\n",
    "2. **unzip** the values\n",
    "3. **unpack** the msgpack-encoded values (using pandas and msgpack libraries for comparison)\n",
    "4. **decode** the MMTF data structure\n",
    "\n",
    "Since Apache Spark use a directed acyclic graph (DAG) scheduler to execute steps, we cannot directly monitor the times required for each step. We infer the effective time for each step by subtracting the time from a previous step run independently."
   ]
  },
  {
   "cell_type": "code",
   "execution_count": 1,
   "metadata": {},
   "outputs": [],
   "source": [
    "import pandas as pd\n",
    "import numpy as np\n",
    "import matplotlib.pyplot as plt\n",
    "%matplotlib inline"
   ]
  },
  {
   "cell_type": "code",
   "execution_count": 2,
   "metadata": {},
   "outputs": [],
   "source": [
    "r = pd.read_csv('../results/read.csv')[['cores','read']]\n",
    "p = pd.read_csv('../results/unpack_pd.csv')[['cores','unpack_pd']]\n",
    "z = pd.read_csv('../results/unzip.csv')[['cores','unzip']]\n",
    "h = pd.read_csv('../results/read_hadoop.csv')[['cores','read_hadoop']]"
   ]
  },
  {
   "cell_type": "code",
   "execution_count": 3,
   "metadata": {},
   "outputs": [],
   "source": [
    "data = r.merge(p, on='cores')\n",
    "data = data.merge(z, on='cores')\n",
    "data = data.merge(h, on='cores')\n",
    "data = data.sort_values('cores')"
   ]
  },
  {
   "cell_type": "code",
   "execution_count": 4,
   "metadata": {},
   "outputs": [],
   "source": [
    "data = data.rename(index=str, columns={'read': 'read_unzip_unpack_decode'})\n",
    "data = data.rename(index=str, columns={'unpack_pd': 'read_unzip_unpack'})\n",
    "data = data.rename(index=str, columns={'unzip': 'read_unzip'})\n",
    "data = data.rename(index=str, columns={'read_hadoop': 'read'})"
   ]
  },
  {
   "cell_type": "code",
   "execution_count": 5,
   "metadata": {},
   "outputs": [
    {
     "name": "stdout",
     "output_type": "stream",
     "text": [
      "Max number of cores: 4\n"
     ]
    }
   ],
   "source": [
    "n_cores = data.cores.max()\n",
    "print(\"Max number of cores:\", n_cores)"
   ]
  },
  {
   "cell_type": "code",
   "execution_count": 6,
   "metadata": {
    "scrolled": false
   },
   "outputs": [
    {
     "data": {
      "text/html": [
       "<div>\n",
       "<style scoped>\n",
       "    .dataframe tbody tr th:only-of-type {\n",
       "        vertical-align: middle;\n",
       "    }\n",
       "\n",
       "    .dataframe tbody tr th {\n",
       "        vertical-align: top;\n",
       "    }\n",
       "\n",
       "    .dataframe thead th {\n",
       "        text-align: right;\n",
       "    }\n",
       "</style>\n",
       "<table border=\"1\" class=\"dataframe\">\n",
       "  <thead>\n",
       "    <tr style=\"text-align: right;\">\n",
       "      <th></th>\n",
       "      <th>cores</th>\n",
       "      <th>read_unzip_unpack_decode</th>\n",
       "      <th>read_unzip_unpack</th>\n",
       "      <th>read_unzip</th>\n",
       "      <th>read</th>\n",
       "    </tr>\n",
       "  </thead>\n",
       "  <tbody>\n",
       "    <tr>\n",
       "      <th>2</th>\n",
       "      <td>1</td>\n",
       "      <td>433.299615</td>\n",
       "      <td>226.785902</td>\n",
       "      <td>167.669005</td>\n",
       "      <td>107.548515</td>\n",
       "    </tr>\n",
       "    <tr>\n",
       "      <th>1</th>\n",
       "      <td>2</td>\n",
       "      <td>280.955425</td>\n",
       "      <td>146.084556</td>\n",
       "      <td>110.188728</td>\n",
       "      <td>73.148682</td>\n",
       "    </tr>\n",
       "    <tr>\n",
       "      <th>0</th>\n",
       "      <td>4</td>\n",
       "      <td>252.546578</td>\n",
       "      <td>129.771995</td>\n",
       "      <td>100.053072</td>\n",
       "      <td>68.628744</td>\n",
       "    </tr>\n",
       "  </tbody>\n",
       "</table>\n",
       "</div>"
      ],
      "text/plain": [
       "   cores  read_unzip_unpack_decode  read_unzip_unpack  read_unzip        read\n",
       "2      1                433.299615         226.785902  167.669005  107.548515\n",
       "1      2                280.955425         146.084556  110.188728   73.148682\n",
       "0      4                252.546578         129.771995  100.053072   68.628744"
      ]
     },
     "execution_count": 6,
     "metadata": {},
     "output_type": "execute_result"
    }
   ],
   "source": [
    "df = data.copy()\n",
    "df"
   ]
  },
  {
   "cell_type": "code",
   "execution_count": 7,
   "metadata": {
    "scrolled": false
   },
   "outputs": [
    {
     "data": {
      "image/png": "[encoded data removed]",
      "text/plain": [
       "<Figure size 432x288 with 1 Axes>"
      ]
     },
     "metadata": {
      "needs_background": "light"
     },
     "output_type": "display_data"
    }
   ],
   "source": [
    "df.plot.line(x=\"cores\", grid=True, title=\"Time for cummulative steps vs cores\")\n",
    "\n",
    "plt.ylabel('Time (s)')\n",
    "plt.xticks(np.arange(1, n_cores+1, 1))\n",
    "plt.savefig('../results/ReadCummulativeSteps_TimeVsCores.png')\n",
    "plt.show()"
   ]
  },
  {
   "cell_type": "markdown",
   "metadata": {},
   "source": [
    "## Calculate Speedup"
   ]
  },
  {
   "cell_type": "code",
   "execution_count": 8,
   "metadata": {},
   "outputs": [
    {
     "data": {
      "text/html": [
       "<div>\n",
       "<style scoped>\n",
       "    .dataframe tbody tr th:only-of-type {\n",
       "        vertical-align: middle;\n",
       "    }\n",
       "\n",
       "    .dataframe tbody tr th {\n",
       "        vertical-align: top;\n",
       "    }\n",
       "\n",
       "    .dataframe thead th {\n",
       "        text-align: right;\n",
       "    }\n",
       "</style>\n",
       "<table border=\"1\" class=\"dataframe\">\n",
       "  <thead>\n",
       "    <tr style=\"text-align: right;\">\n",
       "      <th></th>\n",
       "      <th>cores</th>\n",
       "      <th>read_unzip_unpack_decode</th>\n",
       "      <th>read_unzip_unpack</th>\n",
       "      <th>read_unzip</th>\n",
       "      <th>read</th>\n",
       "    </tr>\n",
       "  </thead>\n",
       "  <tbody>\n",
       "    <tr>\n",
       "      <th>2</th>\n",
       "      <td>1</td>\n",
       "      <td>1.000000</td>\n",
       "      <td>1.000000</td>\n",
       "      <td>1.000000</td>\n",
       "      <td>1.000000</td>\n",
       "    </tr>\n",
       "    <tr>\n",
       "      <th>1</th>\n",
       "      <td>2</td>\n",
       "      <td>1.542236</td>\n",
       "      <td>1.552429</td>\n",
       "      <td>1.521653</td>\n",
       "      <td>1.470273</td>\n",
       "    </tr>\n",
       "    <tr>\n",
       "      <th>0</th>\n",
       "      <td>4</td>\n",
       "      <td>1.715722</td>\n",
       "      <td>1.747572</td>\n",
       "      <td>1.675801</td>\n",
       "      <td>1.567106</td>\n",
       "    </tr>\n",
       "  </tbody>\n",
       "</table>\n",
       "</div>"
      ],
      "text/plain": [
       "   cores  read_unzip_unpack_decode  read_unzip_unpack  read_unzip      read\n",
       "2      1                  1.000000           1.000000    1.000000  1.000000\n",
       "1      2                  1.542236           1.552429    1.521653  1.470273\n",
       "0      4                  1.715722           1.747572    1.675801  1.567106"
      ]
     },
     "execution_count": 8,
     "metadata": {},
     "output_type": "execute_result"
    }
   ],
   "source": [
    "df['read_unzip_unpack_decode'] = df.read_unzip_unpack_decode.max()/df.read_unzip_unpack_decode\n",
    "df['read_unzip_unpack'] = df.read_unzip_unpack.max()/df.read_unzip_unpack\n",
    "df['read_unzip'] = df.read_unzip.max()/df.read_unzip\n",
    "df['read'] = df.read.max()/df.read\n",
    "df"
   ]
  },
  {
   "cell_type": "code",
   "execution_count": 9,
   "metadata": {
    "scrolled": true
   },
   "outputs": [
    {
     "data": {
      "image/png": "[encoded data removed]",
      "text/plain": [
       "<Figure size 432x288 with 1 Axes>"
      ]
     },
     "metadata": {
      "needs_background": "light"
     },
     "output_type": "display_data"
    }
   ],
   "source": [
    "df.plot.line(x=\"cores\", grid=True, title=\"Speedup for cummulative steps vs cores\")\n",
    "\n",
    "plt.ylabel('Speedup')\n",
    "plt.xticks(np.arange(1, n_cores+1, 1))\n",
    "plt.savefig('../results/ReadCummulativeSteps_SpeedupVsCores.png')\n",
    "plt.show()"
   ]
  },
  {
   "cell_type": "markdown",
   "metadata": {},
   "source": [
    "## Calculate Times for individual steps"
   ]
  },
  {
   "cell_type": "code",
   "execution_count": 10,
   "metadata": {
    "scrolled": true
   },
   "outputs": [
    {
     "data": {
      "text/html": [
       "<div>\n",
       "<style scoped>\n",
       "    .dataframe tbody tr th:only-of-type {\n",
       "        vertical-align: middle;\n",
       "    }\n",
       "\n",
       "    .dataframe tbody tr th {\n",
       "        vertical-align: top;\n",
       "    }\n",
       "\n",
       "    .dataframe thead th {\n",
       "        text-align: right;\n",
       "    }\n",
       "</style>\n",
       "<table border=\"1\" class=\"dataframe\">\n",
       "  <thead>\n",
       "    <tr style=\"text-align: right;\">\n",
       "      <th></th>\n",
       "      <th>cores</th>\n",
       "      <th>read_unzip_unpack_decode</th>\n",
       "      <th>read_unzip_unpack</th>\n",
       "      <th>read_unzip</th>\n",
       "      <th>read</th>\n",
       "      <th>decode</th>\n",
       "      <th>unpack</th>\n",
       "      <th>unzip</th>\n",
       "    </tr>\n",
       "  </thead>\n",
       "  <tbody>\n",
       "    <tr>\n",
       "      <th>2</th>\n",
       "      <td>1</td>\n",
       "      <td>433.299615</td>\n",
       "      <td>226.785902</td>\n",
       "      <td>167.669005</td>\n",
       "      <td>107.548515</td>\n",
       "      <td>206.513713</td>\n",
       "      <td>59.116897</td>\n",
       "      <td>60.120490</td>\n",
       "    </tr>\n",
       "    <tr>\n",
       "      <th>1</th>\n",
       "      <td>2</td>\n",
       "      <td>280.955425</td>\n",
       "      <td>146.084556</td>\n",
       "      <td>110.188728</td>\n",
       "      <td>73.148682</td>\n",
       "      <td>134.870869</td>\n",
       "      <td>35.895828</td>\n",
       "      <td>37.040046</td>\n",
       "    </tr>\n",
       "    <tr>\n",
       "      <th>0</th>\n",
       "      <td>4</td>\n",
       "      <td>252.546578</td>\n",
       "      <td>129.771995</td>\n",
       "      <td>100.053072</td>\n",
       "      <td>68.628744</td>\n",
       "      <td>122.774583</td>\n",
       "      <td>29.718923</td>\n",
       "      <td>31.424328</td>\n",
       "    </tr>\n",
       "  </tbody>\n",
       "</table>\n",
       "</div>"
      ],
      "text/plain": [
       "   cores  read_unzip_unpack_decode  read_unzip_unpack  read_unzip        read  \\\n",
       "2      1                433.299615         226.785902  167.669005  107.548515   \n",
       "1      2                280.955425         146.084556  110.188728   73.148682   \n",
       "0      4                252.546578         129.771995  100.053072   68.628744   \n",
       "\n",
       "       decode     unpack      unzip  \n",
       "2  206.513713  59.116897  60.120490  \n",
       "1  134.870869  35.895828  37.040046  \n",
       "0  122.774583  29.718923  31.424328  "
      ]
     },
     "execution_count": 10,
     "metadata": {},
     "output_type": "execute_result"
    }
   ],
   "source": [
    "df = data.copy()\n",
    "df['decode'] = df.read_unzip_unpack_decode - df.read_unzip_unpack\n",
    "df['unpack'] = df.read_unzip_unpack - df.read_unzip\n",
    "df['unzip'] = df.read_unzip - df.read\n",
    "df"
   ]
  },
  {
   "cell_type": "code",
   "execution_count": 11,
   "metadata": {},
   "outputs": [],
   "source": [
    "df = df[['cores','decode','unpack','unzip','read']].copy()"
   ]
  },
  {
   "cell_type": "code",
   "execution_count": 12,
   "metadata": {
    "scrolled": true
   },
   "outputs": [
    {
     "data": {
      "image/png": "[encoded data removed]",
      "text/plain": [
       "<Figure size 432x288 with 1 Axes>"
      ]
     },
     "metadata": {
      "needs_background": "light"
     },
     "output_type": "display_data"
    }
   ],
   "source": [
    "df.plot.line(x=\"cores\", grid=True, title=\"Time for individual steps vs cores\")\n",
    "\n",
    "plt.ylabel('Time (s)')\n",
    "plt.xticks(np.arange(1, n_cores+1, 1))\n",
    "plt.savefig('../results/ReadIndividualSteps_TimeVsCores.png')\n",
    "plt.show()"
   ]
  },
  {
   "cell_type": "markdown",
   "metadata": {},
   "source": [
    "## Calculate Speedup for individual steps"
   ]
  },
  {
   "cell_type": "code",
   "execution_count": 13,
   "metadata": {},
   "outputs": [
    {
     "data": {
      "text/html": [
       "<div>\n",
       "<style scoped>\n",
       "    .dataframe tbody tr th:only-of-type {\n",
       "        vertical-align: middle;\n",
       "    }\n",
       "\n",
       "    .dataframe tbody tr th {\n",
       "        vertical-align: top;\n",
       "    }\n",
       "\n",
       "    .dataframe thead th {\n",
       "        text-align: right;\n",
       "    }\n",
       "</style>\n",
       "<table border=\"1\" class=\"dataframe\">\n",
       "  <thead>\n",
       "    <tr style=\"text-align: right;\">\n",
       "      <th></th>\n",
       "      <th>cores</th>\n",
       "      <th>decode</th>\n",
       "      <th>unpack</th>\n",
       "      <th>unzip</th>\n",
       "      <th>read</th>\n",
       "    </tr>\n",
       "  </thead>\n",
       "  <tbody>\n",
       "    <tr>\n",
       "      <th>2</th>\n",
       "      <td>1</td>\n",
       "      <td>1.000000</td>\n",
       "      <td>1.000000</td>\n",
       "      <td>1.000000</td>\n",
       "      <td>1.000000</td>\n",
       "    </tr>\n",
       "    <tr>\n",
       "      <th>1</th>\n",
       "      <td>2</td>\n",
       "      <td>1.531196</td>\n",
       "      <td>1.646902</td>\n",
       "      <td>1.623121</td>\n",
       "      <td>1.470273</td>\n",
       "    </tr>\n",
       "    <tr>\n",
       "      <th>0</th>\n",
       "      <td>4</td>\n",
       "      <td>1.682056</td>\n",
       "      <td>1.989201</td>\n",
       "      <td>1.913183</td>\n",
       "      <td>1.567106</td>\n",
       "    </tr>\n",
       "  </tbody>\n",
       "</table>\n",
       "</div>"
      ],
      "text/plain": [
       "   cores    decode    unpack     unzip      read\n",
       "2      1  1.000000  1.000000  1.000000  1.000000\n",
       "1      2  1.531196  1.646902  1.623121  1.470273\n",
       "0      4  1.682056  1.989201  1.913183  1.567106"
      ]
     },
     "execution_count": 13,
     "metadata": {},
     "output_type": "execute_result"
    }
   ],
   "source": [
    "df['decode'] = df.decode.max()/df.decode\n",
    "df['unpack'] = df.unpack.max()/df.unpack\n",
    "df['unzip'] = df.unzip.max()/df.unzip\n",
    "df['read'] = df.read.max()/df.read\n",
    "df"
   ]
  },
  {
   "cell_type": "code",
   "execution_count": 14,
   "metadata": {
    "scrolled": true
   },
   "outputs": [
    {
     "data": {
      "image/png": "[encoded data removed]",
      "text/plain": [
       "<Figure size 432x288 with 1 Axes>"
      ]
     },
     "metadata": {
      "needs_background": "light"
     },
     "output_type": "display_data"
    }
   ],
   "source": [
    "df.plot.line(x=\"cores\", grid=True, title=\"Speedup for individual steps vs cores\")\n",
    "\n",
    "plt.ylabel('Speedup')\n",
    "plt.xticks(np.arange(1, n_cores+1, 1))\n",
    "plt.savefig('../results/ReadIndividualSteps_SpeedupVsCores.png')\n",
    "plt.show()"
   ]
  },
  {
   "cell_type": "markdown",
   "metadata": {},
   "source": [
    "## Compare two libraries for decoding msgpacked data\n",
    "1. msgpack\n",
    "2. pandas"
   ]
  },
  {
   "cell_type": "code",
   "execution_count": 15,
   "metadata": {},
   "outputs": [],
   "source": [
    "m = pd.read_csv('../results/unpack_msgpack.csv')[['cores','unpack_msgpack']]\n",
    "p = pd.read_csv('../results/unpack_pd.csv')[['cores','unpack_pd']]\n",
    "z = pd.read_csv('../results/unzip.csv')[['cores','unzip']]\n",
    "data = m.merge(p, on='cores')\n",
    "data = data.merge(z, on='cores')\n",
    "data = data.sort_values('cores')"
   ]
  },
  {
   "cell_type": "code",
   "execution_count": 16,
   "metadata": {},
   "outputs": [],
   "source": [
    "data = data.rename(index=str, columns={'unpack_msgpack': 'read_unzip_unpack_msgpack'})\n",
    "data = data.rename(index=str, columns={'unpack_pd': 'read_unzip_unpack_pandas'})\n",
    "data = data.rename(index=str, columns={'unzip': 'read_unzip'})"
   ]
  },
  {
   "cell_type": "code",
   "execution_count": 17,
   "metadata": {},
   "outputs": [
    {
     "data": {
      "text/html": [
       "<div>\n",
       "<style scoped>\n",
       "    .dataframe tbody tr th:only-of-type {\n",
       "        vertical-align: middle;\n",
       "    }\n",
       "\n",
       "    .dataframe tbody tr th {\n",
       "        vertical-align: top;\n",
       "    }\n",
       "\n",
       "    .dataframe thead th {\n",
       "        text-align: right;\n",
       "    }\n",
       "</style>\n",
       "<table border=\"1\" class=\"dataframe\">\n",
       "  <thead>\n",
       "    <tr style=\"text-align: right;\">\n",
       "      <th></th>\n",
       "      <th>cores</th>\n",
       "      <th>read_unzip_unpack_msgpack</th>\n",
       "      <th>read_unzip_unpack_pandas</th>\n",
       "      <th>read_unzip</th>\n",
       "    </tr>\n",
       "  </thead>\n",
       "  <tbody>\n",
       "    <tr>\n",
       "      <th>2</th>\n",
       "      <td>1</td>\n",
       "      <td>777.912697</td>\n",
       "      <td>226.785902</td>\n",
       "      <td>167.669005</td>\n",
       "    </tr>\n",
       "    <tr>\n",
       "      <th>1</th>\n",
       "      <td>2</td>\n",
       "      <td>439.496938</td>\n",
       "      <td>146.084556</td>\n",
       "      <td>110.188728</td>\n",
       "    </tr>\n",
       "    <tr>\n",
       "      <th>0</th>\n",
       "      <td>4</td>\n",
       "      <td>439.697267</td>\n",
       "      <td>129.771995</td>\n",
       "      <td>100.053072</td>\n",
       "    </tr>\n",
       "  </tbody>\n",
       "</table>\n",
       "</div>"
      ],
      "text/plain": [
       "   cores  read_unzip_unpack_msgpack  read_unzip_unpack_pandas  read_unzip\n",
       "2      1                 777.912697                226.785902  167.669005\n",
       "1      2                 439.496938                146.084556  110.188728\n",
       "0      4                 439.697267                129.771995  100.053072"
      ]
     },
     "execution_count": 17,
     "metadata": {},
     "output_type": "execute_result"
    }
   ],
   "source": [
    "df = data.copy()\n",
    "df"
   ]
  },
  {
   "cell_type": "code",
   "execution_count": 18,
   "metadata": {},
   "outputs": [
    {
     "data": {
      "image/png": "[encoded data removed]",
      "text/plain": [
       "<Figure size 432x288 with 1 Axes>"
      ]
     },
     "metadata": {
      "needs_background": "light"
     },
     "output_type": "display_data"
    }
   ],
   "source": [
    "df.plot.line(x=\"cores\", grid=True, title=\"Time for cummulative steps vs cores\")\n",
    "\n",
    "plt.ylabel('Time (s)')\n",
    "plt.xticks(np.arange(1, n_cores+1, 1))\n",
    "plt.savefig('../results/ReadCummulativeSteps_MsgPack_TimeVsCores.png')\n",
    "plt.show()"
   ]
  },
  {
   "cell_type": "code",
   "execution_count": 19,
   "metadata": {},
   "outputs": [
    {
     "data": {
      "text/html": [
       "<div>\n",
       "<style scoped>\n",
       "    .dataframe tbody tr th:only-of-type {\n",
       "        vertical-align: middle;\n",
       "    }\n",
       "\n",
       "    .dataframe tbody tr th {\n",
       "        vertical-align: top;\n",
       "    }\n",
       "\n",
       "    .dataframe thead th {\n",
       "        text-align: right;\n",
       "    }\n",
       "</style>\n",
       "<table border=\"1\" class=\"dataframe\">\n",
       "  <thead>\n",
       "    <tr style=\"text-align: right;\">\n",
       "      <th></th>\n",
       "      <th>cores</th>\n",
       "      <th>unpack_msgpack</th>\n",
       "      <th>unpack_pandas</th>\n",
       "    </tr>\n",
       "  </thead>\n",
       "  <tbody>\n",
       "    <tr>\n",
       "      <th>2</th>\n",
       "      <td>1</td>\n",
       "      <td>610.243692</td>\n",
       "      <td>59.116897</td>\n",
       "    </tr>\n",
       "    <tr>\n",
       "      <th>1</th>\n",
       "      <td>2</td>\n",
       "      <td>329.308210</td>\n",
       "      <td>35.895828</td>\n",
       "    </tr>\n",
       "    <tr>\n",
       "      <th>0</th>\n",
       "      <td>4</td>\n",
       "      <td>339.644195</td>\n",
       "      <td>29.718923</td>\n",
       "    </tr>\n",
       "  </tbody>\n",
       "</table>\n",
       "</div>"
      ],
      "text/plain": [
       "   cores  unpack_msgpack  unpack_pandas\n",
       "2      1      610.243692      59.116897\n",
       "1      2      329.308210      35.895828\n",
       "0      4      339.644195      29.718923"
      ]
     },
     "execution_count": 19,
     "metadata": {},
     "output_type": "execute_result"
    }
   ],
   "source": [
    "df = data.copy()\n",
    "df['unpack_msgpack'] = df.read_unzip_unpack_msgpack - df.read_unzip\n",
    "df['unpack_pandas'] = df.read_unzip_unpack_pandas - df.read_unzip\n",
    "df = df[['cores','unpack_msgpack','unpack_pandas']]\n",
    "df"
   ]
  },
  {
   "cell_type": "code",
   "execution_count": 20,
   "metadata": {},
   "outputs": [
    {
     "data": {
      "image/png": "[encoded data removed]",
      "text/plain": [
       "<Figure size 432x288 with 1 Axes>"
      ]
     },
     "metadata": {
      "needs_background": "light"
     },
     "output_type": "display_data"
    }
   ],
   "source": [
    "df.plot.line(x=\"cores\", grid=True, title=\"Time for individual steps vs cores\")\n",
    "\n",
    "plt.ylabel('Time (s)')\n",
    "plt.xticks(np.arange(1, n_cores+1, 1))\n",
    "plt.savefig('../results/ReadIndividualSteps_MsgPack_TimeVsCores..png')\n",
    "plt.show()"
   ]
  }
 ],
 "metadata": {
  "kernelspec": {
   "display_name": "Python 3",
   "language": "python",
   "name": "python3"
  },
  "language_info": {
   "codemirror_mode": {
    "name": "ipython",
    "version": 3
   },
   "file_extension": ".py",
   "mimetype": "text/x-python",
   "name": "python",
   "nbconvert_exporter": "python",
   "pygments_lexer": "ipython3",
   "version": "3.7.1"
  }
 },
 "nbformat": 4,
 "nbformat_minor": 2
}
